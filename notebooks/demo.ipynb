{
 "cells": [
  {
   "cell_type": "code",
   "execution_count": 31,
   "metadata": {},
   "outputs": [],
   "source": [
    "# Add relevant Jupyter notebook extensions "
   ]
  },
  {
   "cell_type": "code",
   "execution_count": 37,
   "metadata": {},
   "outputs": [
    {
     "name": "stdout",
     "output_type": "stream",
     "text": [
      "['/opt/homebrew/Cellar/python@3.12/3.12.5/Frameworks/Python.framework/Versions/3.12/lib/python312.zip', '/opt/homebrew/Cellar/python@3.12/3.12.5/Frameworks/Python.framework/Versions/3.12/lib/python3.12', '/opt/homebrew/Cellar/python@3.12/3.12.5/Frameworks/Python.framework/Versions/3.12/lib/python3.12/lib-dynload', '', '/Users/xiaoyishang/Desktop/b1-coding-practical-mt24/.venv/lib/python3.12/site-packages', '/opt/homebrew/opt/python-tk@3.12/libexec', '/Users/xiaoyishang/Desktop/b1-coding-practical-mt24/uuv_mission', '/Users/xiaoyishang/Desktop/b1-coding-practical-mt24/uuv_mission', '/Users/xiaoyishang/Desktop/b1-coding-practical-mt24', '/Users/xiaoyishang/Desktop/b1-coding-practical-mt24/uuv_mission', '/Users/xiaoyishang/Desktop/b1-coding-practical-mt24/uuv_mission', '/Users/xiaoyishang/Desktop/b1-coding-practical-mt24', '/Users/xiaoyishang/Desktop/b1-coding-practical-mt24/uuv_mission', '/Users/xiaoyishang/Desktop/b1-coding-practical-mt24', '/Users/xiaoyishang/Desktop/b1-coding-practical-mt24', '/Users/xiaoyishang/Desktop/b1-coding-practical-mt24', '/Users/xiaoyishang/Desktop/b1-coding-practical-mt24', '/Users/xiaoyishang/Desktop/b1-coding-practical-mt24', '/Users/xiaoyishang/Desktop/b1-coding-practical-mt24', '/Users/xiaoyishang/Desktop/b1-coding-practical-mt24', '/Users/xiaoyishang/Desktop/b1-coding-practical-mt24', '/Users/xiaoyishang/Desktop/b1-coding-practical-mt24', '/Users/xiaoyishang/Desktop/b1-coding-practical-mt24', '/Users/xiaoyishang/Desktop/b1-coding-practical-mt24', '/Users/xiaoyishang/Desktop/b1-coding-practical-mt24', '/Users/xiaoyishang/Desktop/b1-coding-practical-mt24', '/Users/xiaoyishang/Desktop/b1-coding-practical-mt24', '/Users/xiaoyishang/Desktop/b1-coding-practical-mt24', '/Users/xiaoyishang/Desktop/b1-coding-practical-mt24', '/Users/xiaoyishang/Desktop/b1-coding-practical-mt24', '/Users/xiaoyishang/Desktop/b1-coding-practical-mt24', '/Users/xiaoyishang/Desktop/b1-coding-practical-mt24', '/Users/xiaoyishang/Desktop/b1-coding-practical-mt24', '/Users/xiaoyishang/Desktop/b1-coding-practical-mt24']\n"
     ]
    }
   ],
   "source": [
    "# You can double-check your Python path like this...\n",
    "import sys  \n",
    "print(sys.path)"
   ]
  },
  {
   "cell_type": "markdown",
   "metadata": {},
   "source": [
    "# Simulate closed-loop\n",
    "After implementing your control functionality, you can simulate the closed-loop with code that looks something like this..."
   ]
  },
  {
   "cell_type": "code",
   "execution_count": 62,
   "metadata": {},
   "outputs": [
    {
     "ename": "TypeError",
     "evalue": "object of type 'numpy.float64' has no len()",
     "output_type": "error",
     "traceback": [
      "\u001b[0;31m---------------------------------------------------------------------------\u001b[0m",
      "\u001b[0;31mTypeError\u001b[0m                                 Traceback (most recent call last)",
      "Cell \u001b[0;32mIn[62], line 26\u001b[0m\n\u001b[1;32m     23\u001b[0m mission_instances \u001b[38;5;241m=\u001b[39m Mission\u001b[38;5;241m.\u001b[39mfrom_csv(\u001b[38;5;124m\"\u001b[39m\u001b[38;5;124m../data/mission.csv\u001b[39m\u001b[38;5;124m\"\u001b[39m) \u001b[38;5;66;03m# You must implement this method in the Mission class\u001b[39;00m\n\u001b[1;32m     25\u001b[0m \u001b[38;5;28;01mfor\u001b[39;00m instance \u001b[38;5;129;01min\u001b[39;00m mission_instances:\n\u001b[0;32m---> 26\u001b[0m     trajectory \u001b[38;5;241m=\u001b[39m \u001b[43mclosed_loop\u001b[49m\u001b[38;5;241;43m.\u001b[39;49m\u001b[43msimulate_with_random_disturbances\u001b[49m\u001b[43m(\u001b[49m\u001b[43minstance\u001b[49m\u001b[43m)\u001b[49m\n\u001b[1;32m     27\u001b[0m     trajectory\u001b[38;5;241m.\u001b[39mplot_completed_mission(instance)\n",
      "File \u001b[0;32m~/Desktop/b1-coding-practical-mt24/uuv_mission/dynamic.py:108\u001b[0m, in \u001b[0;36mClosedLoop.simulate_with_random_disturbances\u001b[0;34m(self, mission, variance)\u001b[0m\n\u001b[1;32m    107\u001b[0m \u001b[38;5;28;01mdef\u001b[39;00m \u001b[38;5;21msimulate_with_random_disturbances\u001b[39m(\u001b[38;5;28mself\u001b[39m, mission: Mission, variance: \u001b[38;5;28mfloat\u001b[39m \u001b[38;5;241m=\u001b[39m \u001b[38;5;241m0.5\u001b[39m) \u001b[38;5;241m-\u001b[39m\u001b[38;5;241m>\u001b[39m Trajectory:\n\u001b[0;32m--> 108\u001b[0m     disturbances \u001b[38;5;241m=\u001b[39m np\u001b[38;5;241m.\u001b[39mrandom\u001b[38;5;241m.\u001b[39mnormal(\u001b[38;5;241m0\u001b[39m, variance, \u001b[38;5;28;43mlen\u001b[39;49m\u001b[43m(\u001b[49m\u001b[43mmission\u001b[49m\u001b[38;5;241;43m.\u001b[39;49m\u001b[43mreference\u001b[49m\u001b[43m)\u001b[49m)\n\u001b[1;32m    109\u001b[0m     \u001b[38;5;28;01mreturn\u001b[39;00m \u001b[38;5;28mself\u001b[39m\u001b[38;5;241m.\u001b[39msimulate(mission, disturbances)\n",
      "\u001b[0;31mTypeError\u001b[0m: object of type 'numpy.float64' has no len()"
     ]
    }
   ],
   "source": [
    "# Import relevant modules\n",
    "\n",
    "import sys\n",
    "import os\n",
    "sys.path.append(os.path.abspath('..'))\n",
    "\n",
    "import uuv_mission\n",
    "\n",
    "from uuv_mission.control import PDController\n",
    "from uuv_mission.dynamic import Submarine\n",
    "from uuv_mission.dynamic import ClosedLoop\n",
    "from uuv_mission.__init__ import Mission\n",
    "\n",
    "import numpy as np\n",
    "import matplotlib.pyplot as plt\n",
    "\n",
    "sub = Submarine()\n",
    "# Instantiate your controller (depending on your implementation)\n",
    "KP = 0.15\n",
    "KD = 0.6\n",
    "controller = PDController(KP, KD)  # Ensure your PDController accepts KP and KD in its constructor\n",
    "closed_loop = ClosedLoop(sub, controller)\n",
    "mission_instances = Mission.from_csv(\"../data/mission.csv\") # You must implement this method in the Mission class\n",
    "\n",
    "for instance in mission_instances:\n",
    "    trajectory = closed_loop.simulate_with_random_disturbances(instance)\n",
    "    trajectory.plot_completed_mission(instance)"
   ]
  },
  {
   "cell_type": "markdown",
   "metadata": {},
   "source": []
  }
 ],
 "metadata": {
  "kernelspec": {
   "display_name": ".venv",
   "language": "python",
   "name": "python3"
  },
  "language_info": {
   "codemirror_mode": {
    "name": "ipython",
    "version": 3
   },
   "file_extension": ".py",
   "mimetype": "text/x-python",
   "name": "python",
   "nbconvert_exporter": "python",
   "pygments_lexer": "ipython3",
   "version": "3.12.5"
  }
 },
 "nbformat": 4,
 "nbformat_minor": 2
}
